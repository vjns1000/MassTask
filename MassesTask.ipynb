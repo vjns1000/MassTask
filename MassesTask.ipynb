{
 "cells": [
  {
   "cell_type": "code",
   "execution_count": 1,
   "id": "7d10123b",
   "metadata": {},
   "outputs": [],
   "source": [
    "from pyopenms import *"
   ]
  },
  {
   "cell_type": "code",
   "execution_count": 4,
   "id": "f907be9e",
   "metadata": {},
   "outputs": [
    {
     "name": "stdout",
     "output_type": "stream",
     "text": [
      "The peptide VAKA consists of the following amino acids:\n",
      "Valine : 117.0789793509\n",
      "Alanine : 89.0476792233\n",
      "Lysine : 146.1055284466\n",
      "Alanine : 89.0476792233\n",
      "sum of full masses without peptide:\n",
      "441.2798662441\n",
      "sum of full masses with peptide:\n"
     ]
    },
    {
     "data": {
      "text/plain": [
       "387.2481710527"
      ]
     },
     "execution_count": 4,
     "metadata": {},
     "output_type": "execute_result"
    }
   ],
   "source": [
    "seq = AASequence.fromString(\"VAKA\")\n",
    "print(\"The peptide\",str(seq), \"consists of the following amino acids:\")\n",
    "sumOfMasses = 0\n",
    "for aa in seq:\n",
    "    print(aa.getName(), \":\", aa.getMonoWeight())\n",
    "    sumOfMasses = sumOfMasses + aa.getMonoWeight()\n",
    "print(\"sum of full masses without peptide:\")\n",
    "print(sumOfMasses)      \n",
    "mfull = seq.getMonoWeight()\n",
    "print(\"sum of full masses with peptide:\")\n",
    "mfull"
   ]
  },
  {
   "cell_type": "code",
   "execution_count": null,
   "id": "7c39b073",
   "metadata": {},
   "outputs": [],
   "source": []
  },
  {
   "cell_type": "code",
   "execution_count": null,
   "id": "04531861",
   "metadata": {},
   "outputs": [],
   "source": []
  }
 ],
 "metadata": {
  "kernelspec": {
   "display_name": "Python 3 (ipykernel)",
   "language": "python",
   "name": "python3"
  },
  "language_info": {
   "codemirror_mode": {
    "name": "ipython",
    "version": 3
   },
   "file_extension": ".py",
   "mimetype": "text/x-python",
   "name": "python",
   "nbconvert_exporter": "python",
   "pygments_lexer": "ipython3",
   "version": "3.9.12"
  }
 },
 "nbformat": 4,
 "nbformat_minor": 5
}
